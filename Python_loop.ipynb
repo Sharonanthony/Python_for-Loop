{
 "cells": [
  {
   "cell_type": "code",
   "execution_count": 1,
   "id": "76b8a194-bcae-44fe-957c-b875c167d2f6",
   "metadata": {},
   "outputs": [],
   "source": [
    "#Basic Level:"
   ]
  },
  {
   "cell_type": "code",
   "execution_count": 5,
   "id": "4713c7dd-7c0a-48e2-b53a-8c473b1eca88",
   "metadata": {},
   "outputs": [
    {
     "name": "stdout",
     "output_type": "stream",
     "text": [
      "1\n",
      "2\n",
      "3\n",
      "4\n",
      "5\n",
      "6\n",
      "7\n",
      "8\n",
      "9\n",
      "10\n"
     ]
    }
   ],
   "source": [
    "#1. Write a Python program to print the numbers from 1 to 10 using a `for` loop.\n",
    "\n",
    "for i in range(1,11):\n",
    "    print(i)"
   ]
  },
  {
   "cell_type": "code",
   "execution_count": 1,
   "id": "a64f33f5-1035-448b-ab2d-2a3abfdce4b2",
   "metadata": {},
   "outputs": [
    {
     "name": "stdout",
     "output_type": "stream",
     "text": [
      "Sum of all elements in given list:  74\n"
     ]
    }
   ],
   "source": [
    "#2. Create a program that calculates the sum of all numbers in a list using a `for` loop.\n",
    "\n",
    "total = 0\n",
    "ele = 0\n",
    " \n",
    "# creating a list\n",
    "list1 = [11, 5, 17, 18, 23] \n",
    " \n",
    "# Iterate each element in list\n",
    "# and add them in variable total\n",
    "while(ele < len(list1)):\n",
    "    total = total + list1[ele]\n",
    "    ele += 1\n",
    "     \n",
    "# printing total value\n",
    "print(\"Sum of all elements in given list: \", total)"
   ]
  },
  {
   "cell_type": "code",
   "execution_count": 5,
   "id": "09936578-8bbd-45e0-93e1-a2ab5ca053da",
   "metadata": {},
   "outputs": [
    {
     "name": "stdout",
     "output_type": "stream",
     "text": [
      "olleH \n"
     ]
    }
   ],
   "source": [
    "#3. Write a program to print the characters of a string in reverse order using a `for` loop.\n",
    "\n",
    "a=\"Hello\"\n",
    "b=\" \"\n",
    "for i in a:\n",
    "    b=b+i\n",
    "c=b[::-1]\n",
    "print(c)"
   ]
  },
  {
   "cell_type": "code",
   "execution_count": 10,
   "id": "06d14c3c-ee3e-4457-a240-2836f4084851",
   "metadata": {},
   "outputs": [
    {
     "name": "stdin",
     "output_type": "stream",
     "text": [
      "Enter a number:-  4\n"
     ]
    },
    {
     "name": "stdout",
     "output_type": "stream",
     "text": [
      "24\n"
     ]
    }
   ],
   "source": [
    "#4. Develop a program that finds the factorial of a given number using a `for` loop\n",
    "\n",
    "a=int(input(\"Enter a number:- \"))\n",
    "factorial=1\n",
    "if a==1 or a==0:\n",
    "    print(\"the factorial is 1\")\n",
    "else:\n",
    "    for i in range(1,a+1):\n",
    "        factorial=factorial * i\n",
    "print(factorial)"
   ]
  },
  {
   "cell_type": "code",
   "execution_count": 12,
   "id": "b6457f81-51f6-4a58-964f-96fdd84f8cec",
   "metadata": {},
   "outputs": [
    {
     "name": "stdin",
     "output_type": "stream",
     "text": [
      "Enter a number:-  3\n"
     ]
    },
    {
     "name": "stdout",
     "output_type": "stream",
     "text": [
      "3 x 1 = 3\n",
      "3 x 2 = 6\n",
      "3 x 3 = 9\n",
      "3 x 4 = 12\n",
      "3 x 5 = 15\n",
      "3 x 6 = 18\n",
      "3 x 7 = 21\n",
      "3 x 8 = 24\n",
      "3 x 9 = 27\n",
      "3 x 10 = 30\n"
     ]
    }
   ],
   "source": [
    "#5. Create a program to print the multiplication table of a given number using a `for` loop.\n",
    "\n",
    "a= int(input(\"Enter a number:- \"))\n",
    "for i in range (1,11):\n",
    "    print(f\"{a} x {i} = {a*i}\")\n"
   ]
  },
  {
   "cell_type": "code",
   "execution_count": 16,
   "id": "ce800b10-0ea2-4800-b405-a60100037fd4",
   "metadata": {},
   "outputs": [
    {
     "name": "stdout",
     "output_type": "stream",
     "text": [
      "The number of even =   3\n",
      "The number of odd =   3\n"
     ]
    }
   ],
   "source": [
    "#6. Write a program that counts the number of even and odd numbers in a list using a `for` loop.\n",
    "\n",
    "a=[23,55,34,2,45,66]\n",
    "odd=0\n",
    "even=0\n",
    "for i in a:\n",
    "    if i%2==0:\n",
    "        even= even+1\n",
    "    else:\n",
    "        odd=odd+1\n",
    "print(\"The number of even =  \",even)\n",
    "print(\"The number of odd =  \",odd)        "
   ]
  },
  {
   "cell_type": "code",
   "execution_count": 17,
   "id": "fdb0390f-0bdc-4e4a-90db-82fb9e84661d",
   "metadata": {},
   "outputs": [
    {
     "name": "stdout",
     "output_type": "stream",
     "text": [
      "1\n",
      "4\n",
      "9\n",
      "16\n",
      "25\n"
     ]
    }
   ],
   "source": [
    "#7. Develop a program that prints the squares of numbers from 1 to 5 using a `for` loop.\n",
    "\n",
    "for i in range(1,6):\n",
    "    a=i**2\n",
    "    print(a)"
   ]
  },
  {
   "cell_type": "code",
   "execution_count": 20,
   "id": "b01d41af-f278-46db-8af7-f1a3a6f1d976",
   "metadata": {},
   "outputs": [
    {
     "name": "stdin",
     "output_type": "stream",
     "text": [
      "Enter a string:-  hello all\n"
     ]
    },
    {
     "name": "stdout",
     "output_type": "stream",
     "text": [
      "The length of the string is :-  9\n"
     ]
    }
   ],
   "source": [
    "#8. Create a program to find the length of a string without using the `len()` function.\n",
    "\n",
    "a= input(\"Enter a string:- \")\n",
    "length=0\n",
    "for i in a:\n",
    "    length= length+1\n",
    "print(\"The length of the string is :- \", length)"
   ]
  },
  {
   "cell_type": "code",
   "execution_count": 21,
   "id": "4bd32454-50d3-42b5-bb44-6d3aa0a4dc92",
   "metadata": {},
   "outputs": [
    {
     "name": "stdout",
     "output_type": "stream",
     "text": [
      "2.2\n"
     ]
    }
   ],
   "source": [
    "#9. Write a program that calculates the average of a list of numbers using a `for` loop.\n",
    "\n",
    "a=[1,1,2,3,4]\n",
    "s=sum(a)\n",
    "num=0\n",
    "for i in a:\n",
    "    num= num+ 1\n",
    "average= s/num\n",
    "print(average)"
   ]
  },
  {
   "cell_type": "code",
   "execution_count": 22,
   "id": "01109248-f9fc-4fd0-b3b4-55181ed83a02",
   "metadata": {},
   "outputs": [
    {
     "name": "stdin",
     "output_type": "stream",
     "text": [
      "Enter the number:-  5\n"
     ]
    },
    {
     "name": "stdout",
     "output_type": "stream",
     "text": [
      "0\n",
      "1\n",
      "1\n",
      "2\n",
      "3\n",
      "5\n",
      "8\n"
     ]
    }
   ],
   "source": [
    "#10. Develop a program that prints the first `n` Fibonacci numbers using a `for` loop\n",
    "\n",
    "n= int(input(\"Enter the number:- \"))\n",
    "first = 0\n",
    "second = 1\n",
    "print(first)\n",
    "print(second)\n",
    "for x in range(1,n+1):\n",
    "    third = first + second\n",
    "    print(third)\n",
    "    first,second=second,third"
   ]
  },
  {
   "cell_type": "code",
   "execution_count": 2,
   "id": "6938355a-bab8-4e5b-bb22-fd5248ad06ed",
   "metadata": {},
   "outputs": [],
   "source": [
    "#Intermediate Level:"
   ]
  },
  {
   "cell_type": "code",
   "execution_count": 5,
   "id": "ddba797e-9147-486e-bcdf-7916dbb7836c",
   "metadata": {},
   "outputs": [
    {
     "name": "stdout",
     "output_type": "stream",
     "text": [
      "[78, 45]\n"
     ]
    }
   ],
   "source": [
    "#11. Write a program to check if a given list contains any duplicates using a `for` loop.\n",
    "\n",
    "lis=[78,78,45,34,23,45]\n",
    " \n",
    "uniqueList = []\n",
    "duplicateList = []\n",
    " \n",
    "for i in lis:\n",
    "    if i not in uniqueList:\n",
    "        uniqueList.append(i)\n",
    "    elif i not in duplicateList:\n",
    "        duplicateList.append(i)\n",
    " \n",
    "print(duplicateList)"
   ]
  },
  {
   "cell_type": "code",
   "execution_count": 3,
   "id": "ef0fe048-3b1d-47e7-8b95-782c046c8f7c",
   "metadata": {},
   "outputs": [
    {
     "name": "stdin",
     "output_type": "stream",
     "text": [
      "Please, Enter the Lowest Range Value:  3\n",
      "Please, Enter the Upper Range Value:  11\n"
     ]
    },
    {
     "name": "stdout",
     "output_type": "stream",
     "text": [
      "The Prime Numbers in the range are: \n",
      "3\n",
      "5\n",
      "7\n",
      "11\n"
     ]
    }
   ],
   "source": [
    "#12. Create a program that prints the prime numbers in a given range using a `for` loop.\n",
    "\n",
    "lower_value = int(input (\"Please, Enter the Lowest Range Value: \"))  \n",
    "upper_value = int(input (\"Please, Enter the Upper Range Value: \"))  \n",
    "  \n",
    "print (\"The Prime Numbers in the range are: \")  \n",
    "for number in range (lower_value, upper_value + 1):  \n",
    "    if number > 1:  \n",
    "        for i in range (2, number):  \n",
    "            if (number % i) == 0:  \n",
    "                break  \n",
    "        else:  \n",
    "            print (number)  "
   ]
  },
  {
   "cell_type": "code",
   "execution_count": 11,
   "id": "e0f0ffa3-713b-45e2-a090-5b460daa4864",
   "metadata": {},
   "outputs": [
    {
     "name": "stdin",
     "output_type": "stream",
     "text": [
      "Enter a string:-  hello\n"
     ]
    },
    {
     "name": "stdout",
     "output_type": "stream",
     "text": [
      "2\n"
     ]
    }
   ],
   "source": [
    "#13. Develop a program that counts the number of vowels in a string using a `for` loop.\n",
    "\n",
    "b=input(\"Enter a string:- \")\n",
    "a=b.lower()\n",
    "s=0\n",
    "for i in b:\n",
    "    if i==\"a\" or i==\"e\" or i==\"i\" or i==\"o\" or i==\"u\":\n",
    "        s=s+1\n",
    "print(s)"
   ]
  },
  {
   "cell_type": "code",
   "execution_count": 18,
   "id": "b9fbd29a-fc7b-45fb-929c-146842e98158",
   "metadata": {},
   "outputs": [
    {
     "name": "stdout",
     "output_type": "stream",
     "text": [
      "[7, 8, 9]\n"
     ]
    }
   ],
   "source": [
    "#14. Write a program to find the maximum element in a 2D list using a nested `for` loop.\n",
    "\n",
    "n=[[1,2,3],[4,5,6],[7,8,9]]\n",
    "for i in n:\n",
    "    for a in i:\n",
    "        c=max(n)\n",
    "print(max(n))"
   ]
  },
  {
   "cell_type": "code",
   "execution_count": 19,
   "id": "0a8d69ec-2c7f-4698-bf87-c66a44982cca",
   "metadata": {},
   "outputs": [
    {
     "name": "stdin",
     "output_type": "stream",
     "text": [
      "Enter the element to be removed:-  4\n"
     ]
    },
    {
     "name": "stdout",
     "output_type": "stream",
     "text": [
      "[3, 5, 3, 2, 3, 45, 6]\n"
     ]
    }
   ],
   "source": [
    "#15. Create a program that removes all occurrences of a specific element from a list using a `for` loop.\n",
    "\n",
    "lis=[3,4,5,3,4,2,3,45,6,4]\n",
    "n=int(input(\"Enter the element to be removed:- \"))\n",
    "for x in lis:\n",
    "    if x==n:\n",
    "        lis.remove(x)\n",
    "print(lis)"
   ]
  },
  {
   "cell_type": "code",
   "execution_count": 25,
   "id": "1ff62671-f3cd-4ed9-81ab-04dbe2c64344",
   "metadata": {},
   "outputs": [
    {
     "name": "stdin",
     "output_type": "stream",
     "text": [
      "Enter the number :-  3\n"
     ]
    },
    {
     "name": "stdout",
     "output_type": "stream",
     "text": [
      "3 x  1 = 3\n",
      "3 x  2 = 6\n",
      "3 x  3 = 9\n",
      "3 x  4 = 12\n",
      "3 x  5 = 15\n"
     ]
    }
   ],
   "source": [
    "#16. Develop a program that generates a multiplication table for numbers from 1 to 5 using a nested `for` loop.\n",
    "\n",
    "n=int(input(\"Enter the number :- \"))\n",
    "for i in range(1,6):\n",
    "    print(n, \"x \", i ,\"=\",n*i) "
   ]
  },
  {
   "cell_type": "code",
   "execution_count": 31,
   "id": "8843910c-2a61-497a-94c9-9e2455dfaf79",
   "metadata": {},
   "outputs": [
    {
     "name": "stdout",
     "output_type": "stream",
     "text": [
      "1.12\n",
      "6.720000000000001\n",
      "-5.040000000000001\n",
      "7.280000000000001\n",
      "19.6\n"
     ]
    }
   ],
   "source": [
    "#17. Write a program that converts a list of Fahrenheit temperatures to Celsius using a `for` loop.\n",
    "\n",
    "lis=[34,44,23,45,67]\n",
    "cel=[]\n",
    "for i in lis:\n",
    "    c= (i-32) * 0.56\n",
    "    print(c)"
   ]
  },
  {
   "cell_type": "code",
   "execution_count": 33,
   "id": "ae07bf91-d40c-4dc0-8f26-a44e2b10c7f6",
   "metadata": {},
   "outputs": [
    {
     "name": "stdout",
     "output_type": "stream",
     "text": [
      "2\n",
      "4\n",
      "6\n",
      "8\n",
      "9\n"
     ]
    }
   ],
   "source": [
    "#18. Create a program to print the common elements from two lists using a `for` loop.\n",
    "\n",
    "a=[1,2,3,4,5,6,7,8,9]\n",
    "b=[2,4,6,8,9]\n",
    "for i in a:\n",
    "    for y in b:\n",
    "        if i==y:\n",
    "            print(i)"
   ]
  },
  {
   "cell_type": "code",
   "execution_count": 38,
   "id": "298d6b76-4704-4215-b4fb-de3c58439cab",
   "metadata": {},
   "outputs": [
    {
     "name": "stdin",
     "output_type": "stream",
     "text": [
      "Enter the no:-  6\n"
     ]
    },
    {
     "name": "stdout",
     "output_type": "stream",
     "text": [
      "*\n",
      "**\n",
      "***\n",
      "****\n",
      "*****\n",
      "******\n"
     ]
    }
   ],
   "source": [
    "#19. Develop a program that prints the pattern of right-angled triangles using a `for` loop. Use ‘*’ to draw the \n",
    "#pattern\n",
    "\n",
    "a=int(input(\"Enter the no:- \"))\n",
    "for i in range(0,a):\n",
    "    for j in range(i+1):\n",
    "        print(\"*\", end= \"\")\n",
    "    print(\"\")  \n",
    "    \n"
   ]
  },
  {
   "cell_type": "code",
   "execution_count": 2,
   "id": "66c5004a-27fb-4656-a8b3-21365e6138e5",
   "metadata": {},
   "outputs": [
    {
     "name": "stdin",
     "output_type": "stream",
     "text": [
      "Enter a number 1:  15\n",
      "Enter a number 2:  45\n"
     ]
    },
    {
     "name": "stdout",
     "output_type": "stream",
     "text": [
      "The greatest common divisor is: 15\n"
     ]
    }
   ],
   "source": [
    "#20. Write a program to find the greatest common divisor (GCD) of two numbers using a `for` loop\n",
    "\n",
    "a = int(input(\"Enter a number 1: \"))\n",
    "b = int(input(\"Enter a number 2: \"))\n",
    "\n",
    "alist = []\n",
    "blist = []\n",
    "common = []\n",
    "\n",
    "# Finding divisors of 'a'\n",
    "for i in range(1, a + 1):\n",
    "    if a % i == 0:\n",
    "        alist.append(i)\n",
    "\n",
    "# Finding divisors of 'b'\n",
    "for j in range(1, b + 1):\n",
    "    if b % j == 0:\n",
    "        blist.append(j)\n",
    "\n",
    "# Finding common divisors\n",
    "for i in alist:\n",
    "    if i in blist:\n",
    "        common.append(i)\n",
    "\n",
    "# The greatest common divisor (GCD) is the last element in the 'common' list\n",
    "if common:\n",
    "    c = common[-1]\n",
    "    print(\"The greatest common divisor is:\", c)\n",
    "else:\n",
    "    print(\"There is no common divisor.\")\n"
   ]
  },
  {
   "cell_type": "code",
   "execution_count": 3,
   "id": "14647327-3252-45f5-b3a9-5bb4aa5b7a52",
   "metadata": {},
   "outputs": [],
   "source": [
    "#Advanced Level:"
   ]
  },
  {
   "cell_type": "code",
   "execution_count": 4,
   "id": "b6cdea9d-4ab2-4ed0-880f-a98e49c62985",
   "metadata": {},
   "outputs": [
    {
     "name": "stdout",
     "output_type": "stream",
     "text": [
      "Number: 123, Sum of digits: 6\n",
      "Number: 456, Sum of digits: 15\n",
      "Number: 789, Sum of digits: 24\n"
     ]
    }
   ],
   "source": [
    "#21. Create a program that calculates the sum of the digits of numbers in a list using a list comprehension.\n",
    "\n",
    "# Example list of numbers\n",
    "numbers = [123, 456, 789]\n",
    "\n",
    "# List comprehension to calculate the sum of digits for each number in the list\n",
    "sums = [sum(int(digit) for digit in str(num)) for num in numbers]\n",
    "\n",
    "# Print the original numbers and their respective sums of digits\n",
    "for i in range(len(numbers)):\n",
    "    print(f\"Number: {numbers[i]}, Sum of digits: {sums[i]}\")\n"
   ]
  },
  {
   "cell_type": "code",
   "execution_count": 5,
   "id": "6928fc73-5429-4cb1-b611-4c0ce569623d",
   "metadata": {},
   "outputs": [
    {
     "name": "stdin",
     "output_type": "stream",
     "text": [
      "Enter a number:  56\n"
     ]
    },
    {
     "name": "stdout",
     "output_type": "stream",
     "text": [
      "Prime factors of 56: [1, 2, 7]\n"
     ]
    }
   ],
   "source": [
    "#22. Write a program to find the prime factors of a given number using a `for` loop and list comprehension.\n",
    "\n",
    "def prime_factors(number):\n",
    "    factors = [i for i in range(1, number + 1) if number % i == 0 and all(i % j != 0 for j in range(2, i))]\n",
    "    return factors\n",
    "\n",
    "# Input: Get a number from the user\n",
    "num = int(input(\"Enter a number: \"))\n",
    "\n",
    "# Find and print the prime factors of the given number\n",
    "result = prime_factors(num)\n",
    "\n",
    "print(f\"Prime factors of {num}: {result}\")\n"
   ]
  },
  {
   "cell_type": "code",
   "execution_count": 12,
   "id": "14cc3770-bbfa-4ac6-82d3-a753c53c52fc",
   "metadata": {},
   "outputs": [
    {
     "name": "stdin",
     "output_type": "stream",
     "text": [
      "Enter the number of elements in the list:  5\n",
      "Enter the number:  34\n",
      "Enter the number:  34\n",
      "Enter the number:  54\n",
      "Enter the number:  34\n",
      "Enter the number:  66\n"
     ]
    },
    {
     "name": "stdout",
     "output_type": "stream",
     "text": [
      "Unique elements in the list: [34, 54, 66]\n"
     ]
    }
   ],
   "source": [
    "#23. Develop a program that extracts unique elements from a list and stores them in a new list using a list comprehension\n",
    "\n",
    "a = int(input(\"Enter the number of elements in the list: \"))\n",
    "b = []\n",
    "\n",
    "for i in range(1, a + 1):\n",
    "    c = int(input(\"Enter the number: \"))\n",
    "    if c not in b:\n",
    "        b.append(c)\n",
    "\n",
    "print(\"Unique elements in the list:\", b)\n"
   ]
  },
  {
   "cell_type": "code",
   "execution_count": 13,
   "id": "deac595a-50cb-4b8a-b2c0-9d62f12690b6",
   "metadata": {},
   "outputs": [
    {
     "name": "stdin",
     "output_type": "stream",
     "text": [
      "Enter the limit:  56\n"
     ]
    },
    {
     "name": "stdout",
     "output_type": "stream",
     "text": [
      "Palindromic numbers up to 56: [1, 2, 3, 4, 5, 6, 7, 8, 9, 11, 22, 33, 44, 55]\n"
     ]
    }
   ],
   "source": [
    "#24. Create a program that generates a list of all palindromic numbers up to a specified limit using a list  comprehension\n",
    "\n",
    "# Function to check if a number is palindromic\n",
    "def is_palindrome(number):\n",
    "    return str(number) == str(number)[::-1]\n",
    "\n",
    "# Input: Get the limit from the user\n",
    "limit = int(input(\"Enter the limit: \"))\n",
    "\n",
    "# Generate a list of palindromic numbers using list comprehension\n",
    "palindromes = [num for num in range(1, limit + 1) if is_palindrome(num)]\n",
    "\n",
    "# Print the list of palindromic numbers\n",
    "print(f\"Palindromic numbers up to {limit}: {palindromes}\")\n"
   ]
  },
  {
   "cell_type": "code",
   "execution_count": 14,
   "id": "c4036491-5407-40d1-ac0f-997b8a41b29f",
   "metadata": {},
   "outputs": [
    {
     "name": "stdout",
     "output_type": "stream",
     "text": [
      "Original Nested List: [1, [2, [3, 4], 5], 6, [7, 8]]\n",
      "Flattened List: [1, 2, 3, 4, 5, 6, 7, 8]\n"
     ]
    }
   ],
   "source": [
    "#25. Write a program to flatten a nested list using list comprehension.\n",
    "\n",
    "# Function to flatten a nested list using list comprehension\n",
    "def flatten(nested_list):\n",
    "    return [item for sublist in nested_list for item in (flatten(sublist) if isinstance(sublist, list) else [sublist])]\n",
    "\n",
    "# Example nested list\n",
    "nested_list = [1, [2, [3, 4], 5], 6, [7, 8]]\n",
    "\n",
    "# Flatten the nested list using the flatten function\n",
    "flattened_list = flatten(nested_list)\n",
    "\n",
    "# Print the original nested list and the flattened list\n",
    "print(\"Original Nested List:\", nested_list)\n",
    "print(\"Flattened List:\", flattened_list)\n"
   ]
  },
  {
   "cell_type": "code",
   "execution_count": 17,
   "id": "8d53aeeb-e697-4848-8c1d-8668a2a857f3",
   "metadata": {},
   "outputs": [
    {
     "name": "stdout",
     "output_type": "stream",
     "text": [
      "Odd numbers: [23, 35, 77, 87]\n",
      "Even numbers: [34, 56, 2]\n"
     ]
    }
   ],
   "source": [
    "#26. Develop a program that computes the sum of even and odd numbers in a list separately using list comprehension.\n",
    "\n",
    "a = [34, 23, 35, 56, 77, 87, 2]\n",
    "odd = []\n",
    "even = []\n",
    "b = [even.append(i) if i % 2 == 0 else odd.append(i) for i in a]\n",
    "print(\"Odd numbers:\", odd)\n",
    "print(\"Even numbers:\", even)\n"
   ]
  },
  {
   "cell_type": "code",
   "execution_count": 19,
   "id": "18d370f1-1359-4d0b-9269-d514c69f3ad6",
   "metadata": {},
   "outputs": [
    {
     "name": "stdout",
     "output_type": "stream",
     "text": [
      "[1, 4, 9, 16, 25, 36, 49, 64, 81, 100]\n"
     ]
    }
   ],
   "source": [
    "#27. Create a program that generates a list of squares of odd numbers between 1 and 10 using list comprehension.\n",
    "\n",
    "square=[i*i for i in range (1,11)]\n",
    "print(square)"
   ]
  },
  {
   "cell_type": "code",
   "execution_count": 20,
   "id": "21c00895-776b-4ac0-b063-8cc8177e7639",
   "metadata": {},
   "outputs": [
    {
     "name": "stdout",
     "output_type": "stream",
     "text": [
      "Combined Dictionary: {'name': 'John', 'age': 25, 'city': 'New York'}\n"
     ]
    }
   ],
   "source": [
    "#28. Write a program that combines two lists into a dictionary using list comprehension.\n",
    "\n",
    "# Example lists\n",
    "keys = ['name', 'age', 'city']\n",
    "values = ['John', 25, 'New York']\n",
    "\n",
    "# Combine the lists into a dictionary using list comprehension\n",
    "combined_dict = {keys[i]: values[i] for i in range(min(len(keys), len(values)))}\n",
    "\n",
    "# Print the resulting dictionary\n",
    "print(\"Combined Dictionary:\", combined_dict)\n"
   ]
  },
  {
   "cell_type": "code",
   "execution_count": 23,
   "id": "4a6c1bff-aa10-486f-8090-57a966afb72c",
   "metadata": {},
   "outputs": [
    {
     "name": "stdin",
     "output_type": "stream",
     "text": [
      "Enter a string:  jhfhdkjwehekj\n"
     ]
    },
    {
     "name": "stdout",
     "output_type": "stream",
     "text": [
      "Original String: jhfhdkjwehekj\n",
      "Vowels in the String: ['e', 'e']\n"
     ]
    }
   ],
   "source": [
    "#29. Develop a program that extracts the vowels from a string and stores them in a list using list comprehension.\n",
    "\n",
    "# Function to extract vowels from a string using list comprehension\n",
    "def extract_vowels(input_string):\n",
    "    vowels = [char for char in input_string if char.lower() in 'aeiou']\n",
    "    return vowels\n",
    "\n",
    "# Input: Get a string from the user\n",
    "input_string = input(\"Enter a string: \")\n",
    "\n",
    "# Extract vowels using the function\n",
    "vowel_list = extract_vowels(input_string)\n",
    "\n",
    "# Print the original string and the list of vowels\n",
    "print(\"Original String:\", input_string)\n",
    "print(\"Vowels in the String:\", vowel_list)\n"
   ]
  },
  {
   "cell_type": "code",
   "execution_count": 1,
   "id": "741ecdbe-855f-4327-ae42-058c20984b88",
   "metadata": {},
   "outputs": [
    {
     "name": "stdout",
     "output_type": "stream",
     "text": [
      "Original List: ['abc123', '456def', '789ghi', 'jkl!@#']\n",
      "Result List: ['123', '456', '789', '']\n"
     ]
    }
   ],
   "source": [
    "#30. Create a program that removes all non-numeric characters from a list of strings using list comprehension.\n",
    "\n",
    "def remove_non_numeric(strings_list):\n",
    "    # Use list comprehension to iterate through each string and keep only numeric characters\n",
    "    result = [''.join(char for char in s if char.isdigit()) for s in strings_list]\n",
    "    return result\n",
    "\n",
    "# Example usage\n",
    "strings_list = [\"abc123\", \"456def\", \"789ghi\", \"jkl!@#\"]\n",
    "result_list = remove_non_numeric(strings_list)\n",
    "\n",
    "print(\"Original List:\", strings_list)\n",
    "print(\"Result List:\", result_list)\n"
   ]
  },
  {
   "cell_type": "code",
   "execution_count": 2,
   "id": "ca55287c-234b-41ab-9bbe-b752277775a9",
   "metadata": {},
   "outputs": [],
   "source": [
    "#Challenge Level:"
   ]
  },
  {
   "cell_type": "code",
   "execution_count": 3,
   "id": "e7fa227a-298d-4401-8b09-ad8215a84306",
   "metadata": {},
   "outputs": [
    {
     "name": "stdout",
     "output_type": "stream",
     "text": [
      "Prime numbers up to 50:\n",
      "[2, 3, 5, 7, 11, 13, 17, 19, 23, 29, 31, 37, 41, 43, 47]\n"
     ]
    }
   ],
   "source": [
    "#31. Write a program to generate a list of prime numbers using the Sieve of Eratosthenes algorithm and list comprehension.\n",
    "\n",
    "def is_prime(num):\n",
    "    \"\"\"Check if a number is prime.\"\"\"\n",
    "    if num < 2:\n",
    "        return False\n",
    "    for i in range(2, int(num**0.5) + 1):\n",
    "        if num % i == 0:\n",
    "            return False\n",
    "    return True\n",
    "\n",
    "def generate_primes(limit):\n",
    "    \"\"\"Generate a list of prime numbers up to the given limit.\"\"\"\n",
    "    return [num for num in range(2, limit + 1) if is_prime(num)]\n",
    "\n",
    "# Example usage\n",
    "limit = 50\n",
    "prime_numbers = generate_primes(limit)\n",
    "\n",
    "print(f\"Prime numbers up to {limit}:\")\n",
    "print(prime_numbers)\n"
   ]
  },
  {
   "cell_type": "code",
   "execution_count": 4,
   "id": "b10132da-cb62-44ac-8e9b-b7cc3515a46d",
   "metadata": {},
   "outputs": [
    {
     "name": "stdout",
     "output_type": "stream",
     "text": [
      "Pythagorean triplets up to 20:\n",
      "[(3, 4, 5), (6, 8, 10), (5, 12, 13), (9, 12, 15), (8, 15, 17), (12, 16, 20)]\n"
     ]
    }
   ],
   "source": [
    "#32. Create a program that generates a list of all Pythagorean triplets up to a specified limit using list comprehension.\n",
    "\n",
    "def generate_pythagorean_triplets(limit):\n",
    "    \"\"\"\n",
    "    Generate a list of Pythagorean triplets up to the specified limit.\n",
    "    \"\"\"\n",
    "    triplets = [\n",
    "        (a, b, c)\n",
    "        for c in range(1, limit + 1)\n",
    "        for b in range(1, c)\n",
    "        for a in range(1, b)\n",
    "        if a**2 + b**2 == c**2\n",
    "    ]\n",
    "    return triplets\n",
    "\n",
    "# Example usage\n",
    "limit = 20\n",
    "pythagorean_triplets = generate_pythagorean_triplets(limit)\n",
    "\n",
    "print(f\"Pythagorean triplets up to {limit}:\")\n",
    "print(pythagorean_triplets)\n"
   ]
  },
  {
   "cell_type": "code",
   "execution_count": 5,
   "id": "7a9bfb60-9ac2-4e38-b170-44dbebe34124",
   "metadata": {},
   "outputs": [
    {
     "name": "stdout",
     "output_type": "stream",
     "text": [
      "All possible combinations of two lists:\n",
      "[(1, 'a'), (1, 'b'), (1, 'c'), (2, 'a'), (2, 'b'), (2, 'c'), (3, 'a'), (3, 'b'), (3, 'c')]\n"
     ]
    }
   ],
   "source": [
    "#33. Develop a program that generates a list of all possible combinations of two lists using list comprehension.\n",
    "\n",
    "list1 = [1, 2, 3]\n",
    "list2 = ['a', 'b', 'c']\n",
    "\n",
    "# Generate all possible combinations using list comprehension\n",
    "combinations = [(x, y) for x in list1 for y in list2]\n",
    "\n",
    "# Print the result\n",
    "print(\"All possible combinations of two lists:\")\n",
    "print(combinations)\n"
   ]
  },
  {
   "cell_type": "code",
   "execution_count": 6,
   "id": "71edf2cb-de94-49f8-92a2-848af3cd097b",
   "metadata": {},
   "outputs": [
    {
     "name": "stdout",
     "output_type": "stream",
     "text": [
      "List of numbers: [1, 2, 3, 4, 5, 5, 6, 6, 7, 8]\n",
      "Mean: 4.7\n",
      "Median: 5.0\n",
      "Mode: 5\n"
     ]
    }
   ],
   "source": [
    "#34. Write a program that calculates the mean, median, and mode of a list of numbers using list comprehension.\n",
    "\n",
    "from collections import Counter\n",
    "import statistics\n",
    "\n",
    "def calculate_mean(numbers):\n",
    "    # Using list comprehension to calculate the mean\n",
    "    mean = sum(numbers) / len(numbers)\n",
    "    return mean\n",
    "\n",
    "# Example usage\n",
    "number_list = [1, 2, 3, 4, 5, 5, 6, 6, 7, 8]\n",
    "\n",
    "# Calculate mean using list comprehension\n",
    "mean = calculate_mean(number_list)\n",
    "\n",
    "# Calculate median and mode using traditional methods\n",
    "median = statistics.median(number_list)\n",
    "mode = statistics.mode(number_list)\n",
    "\n",
    "# Print the results\n",
    "print(\"List of numbers:\", number_list)\n",
    "print(\"Mean:\", mean)\n",
    "print(\"Median:\", median)\n",
    "print(\"Mode:\", mode)\n"
   ]
  },
  {
   "cell_type": "code",
   "execution_count": 9,
   "id": "d8cf8bc0-2ac6-404f-b9d5-60ba8d6b3a57",
   "metadata": {},
   "outputs": [
    {
     "name": "stdout",
     "output_type": "stream",
     "text": [
      "[1, 1]\n",
      "[1, 2, 1]\n",
      "[1, 2, 2, 1]\n",
      "[1, 2, 2, 2, 1]\n",
      "[1, 2, 2, 2, 2, 1]\n"
     ]
    }
   ],
   "source": [
    "#35. Create a program that generates Pascal's triangle up to a specified number of rows using list comprehension\n",
    "\n",
    "def generate_pascals_triangle(rows):\n",
    "    triangle = [[1] + [sum(pair) for pair in zip(row, row[1:])] + [1] for row in\n",
    "                [[1] * (i + 1) for i in range(rows)]]\n",
    "    return triangle\n",
    "\n",
    "# Example usage\n",
    "num_rows = 5\n",
    "pascals_triangle = generate_pascals_triangle(num_rows)\n",
    "\n",
    "# Print the result\n",
    "for row in pascals_triangle:\n",
    "    print(row)\n"
   ]
  },
  {
   "cell_type": "code",
   "execution_count": 10,
   "id": "6c19c4c6-6742-4c25-be03-8d53eee7fdb1",
   "metadata": {},
   "outputs": [
    {
     "name": "stdout",
     "output_type": "stream",
     "text": [
      "Sum of digits for the factorial of 1: 1\n",
      "Sum of digits for the factorial of 2: 2\n",
      "Sum of digits for the factorial of 3: 6\n",
      "Sum of digits for the factorial of 4: 6\n",
      "Sum of digits for the factorial of 5: 3\n"
     ]
    }
   ],
   "source": [
    "#36. Develop a program that calculates the sum of the digits of a factorial of numbers from 1 to 5 using list comprehension.\n",
    "\n",
    "import math\n",
    "\n",
    "def factorial(n):\n",
    "    return math.factorial(n)\n",
    "\n",
    "def sum_of_digits(number):\n",
    "    return sum(int(digit) for digit in str(number))\n",
    "\n",
    "# Calculate the sum of digits of the factorial for numbers from 1 to 5\n",
    "results = [sum_of_digits(factorial(i)) for i in range(1, 6)]\n",
    "\n",
    "# Print the results\n",
    "for i, result in enumerate(results, 1):\n",
    "    print(f\"Sum of digits for the factorial of {i}: {result}\")\n"
   ]
  },
  {
   "cell_type": "code",
   "execution_count": 1,
   "id": "1748ea8b-c77e-4f73-bc6b-320182ea5fc1",
   "metadata": {},
   "outputs": [
    {
     "name": "stdout",
     "output_type": "stream",
     "text": [
      "The longest word is: quick\n"
     ]
    }
   ],
   "source": [
    "#37. Write a program that finds the longest word in a sentence using list comprehension.\n",
    "\n",
    "def find_longest_word(sentence):\n",
    "    # Split the sentence into a list of words\n",
    "    words = sentence.split()\n",
    "\n",
    "    # Use list comprehension to find the length of each word\n",
    "    word_lengths = [len(word) for word in words]\n",
    "\n",
    "    # Find the index of the longest word\n",
    "    longest_word_index = word_lengths.index(max(word_lengths))\n",
    "\n",
    "    # Return the longest word\n",
    "    return words[longest_word_index]\n",
    "\n",
    "# Example usage:\n",
    "sentence = \"The quick brown fox jumps over the lazy dog\"\n",
    "longest_word = find_longest_word(sentence)\n",
    "print(\"The longest word is:\", longest_word)\n"
   ]
  },
  {
   "cell_type": "code",
   "execution_count": 2,
   "id": "288e8dce-15d6-47f5-a223-ad5b757f67f1",
   "metadata": {},
   "outputs": [
    {
     "name": "stdout",
     "output_type": "stream",
     "text": [
      "Original List: ['hello', 'world', 'python', 'programming', 'example']\n",
      "Filtered List (more than three vowels): []\n"
     ]
    }
   ],
   "source": [
    "#38. Create a program that filters a list of strings to include only those with more than three vowels using list comprehension.\n",
    "\n",
    "def count_vowels(word):\n",
    "    # Count the number of vowels in a word\n",
    "    return sum(1 for char in word if char.lower() in 'aeiou')\n",
    "\n",
    "def filter_strings_with_more_than_three_vowels(string_list):\n",
    "    # Use list comprehension to filter strings with more than three vowels\n",
    "    filtered_list = [word for word in string_list if count_vowels(word) > 3]\n",
    "\n",
    "    return filtered_list\n",
    "\n",
    "# Example usage:\n",
    "input_list = [\"hello\", \"world\", \"python\", \"programming\", \"example\"]\n",
    "filtered_list = filter_strings_with_more_than_three_vowels(input_list)\n",
    "\n",
    "print(\"Original List:\", input_list)\n",
    "print(\"Filtered List (more than three vowels):\", filtered_list)\n"
   ]
  },
  {
   "cell_type": "code",
   "execution_count": 3,
   "id": "2beaf4df-e6a4-4e5c-864e-345e1acd083a",
   "metadata": {},
   "outputs": [
    {
     "name": "stdout",
     "output_type": "stream",
     "text": [
      "Sum of digits for numbers from 1 to 1000: 13501\n"
     ]
    }
   ],
   "source": [
    "#39. Develop a program that calculates the sum of the digits of numbers from 1 to 1000 using list comprehension.\n",
    "\n",
    "# Function to calculate the sum of digits in a number\n",
    "def sum_of_digits(number):\n",
    "    return sum(int(digit) for digit in str(number))\n",
    "\n",
    "# Use list comprehension to calculate the sum of digits for numbers from 1 to 1000\n",
    "sum_of_digits_list = [sum_of_digits(number) for number in range(1, 1001)]\n",
    "\n",
    "# Calculate the total sum of digits\n",
    "total_sum = sum(sum_of_digits_list)\n",
    "\n",
    "print(\"Sum of digits for numbers from 1 to 1000:\", total_sum)\n"
   ]
  },
  {
   "cell_type": "code",
   "execution_count": 4,
   "id": "c9801fa9-7dcf-49bd-a704-89bf2968b6c1",
   "metadata": {},
   "outputs": [
    {
     "name": "stdout",
     "output_type": "stream",
     "text": [
      "Prime palindromic numbers between 1 and 1000: [2, 3, 5, 7, 11, 101, 131, 151, 181, 191, 313, 353, 373, 383, 727, 757, 787, 797, 919, 929]\n"
     ]
    }
   ],
   "source": [
    "#40. Write a program that generates a list of prime palindromic numbers using list comprehension.\n",
    "\n",
    "def is_prime(num):\n",
    "    if num < 2:\n",
    "        return False\n",
    "    for i in range(2, int(num**0.5) + 1):\n",
    "        if num % i == 0:\n",
    "            return False\n",
    "    return True\n",
    "\n",
    "def is_palindrome(num):\n",
    "    return str(num) == str(num)[::-1]\n",
    "\n",
    "# Generate a list of prime palindromic numbers between 1 and 1000\n",
    "prime_palindromic_numbers = [num for num in range(1, 1001) if is_prime(num) and is_palindrome(num)]\n",
    "\n",
    "print(\"Prime palindromic numbers between 1 and 1000:\", prime_palindromic_numbers)\n"
   ]
  },
  {
   "cell_type": "code",
   "execution_count": null,
   "id": "6d39c5a6-89dc-473b-a180-4127fa4ba646",
   "metadata": {},
   "outputs": [],
   "source": []
  }
 ],
 "metadata": {
  "kernelspec": {
   "display_name": "Python 3 (ipykernel)",
   "language": "python",
   "name": "python3"
  },
  "language_info": {
   "codemirror_mode": {
    "name": "ipython",
    "version": 3
   },
   "file_extension": ".py",
   "mimetype": "text/x-python",
   "name": "python",
   "nbconvert_exporter": "python",
   "pygments_lexer": "ipython3",
   "version": "3.10.8"
  }
 },
 "nbformat": 4,
 "nbformat_minor": 5
}
